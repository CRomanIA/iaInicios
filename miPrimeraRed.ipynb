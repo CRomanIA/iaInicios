{
  "nbformat": 4,
  "nbformat_minor": 0,
  "metadata": {
    "colab": {
      "name": "miPrimeraRed.ipynb",
      "provenance": [],
      "collapsed_sections": [],
      "include_colab_link": true
    },
    "kernelspec": {
      "name": "python3",
      "display_name": "Python 3"
    }
  },
  "cells": [
    {
      "cell_type": "markdown",
      "metadata": {
        "id": "view-in-github",
        "colab_type": "text"
      },
      "source": [
        "<a href=\"https://colab.research.google.com/github/CRomanIA/iaInicios/blob/master/miPrimeraRed.ipynb\" target=\"_parent\"><img src=\"https://colab.research.google.com/assets/colab-badge.svg\" alt=\"Open In Colab\"/></a>"
      ]
    },
    {
      "cell_type": "code",
      "metadata": {
        "id": "_aR7P1NI063X",
        "colab_type": "code",
        "colab": {}
      },
      "source": [
        "import numpy as np\n",
        "import scipy as sc\n",
        "import matplotlib.pyplot as plt\n",
        "\n",
        "from sklearn.datasets import make_circles\n"
      ],
      "execution_count": 0,
      "outputs": []
    },
    {
      "cell_type": "code",
      "metadata": {
        "id": "Aol7dPyfZ7F8",
        "colab_type": "code",
        "outputId": "dfd2f847-8b60-4e71-e5e4-72b38a606822",
        "colab": {
          "base_uri": "https://localhost:8080/",
          "height": 269
        }
      },
      "source": [
        "# crear el dataseT\n",
        "n = 500\n",
        "p = 2\n",
        "\n",
        "X, Y = make_circles(n_samples=n, factor=0.5, noise=0.05)\n",
        "\n",
        "Y = Y[:, np.newaxis]\n",
        "\n",
        "plt.scatter(X[Y[:, 0] == 0, 0], X[Y[:, 0] == 0, 1], c=\"skyblue\")\n",
        "plt.scatter(X[Y[:, 0] == 1, 0], X[Y[:, 0] == 1, 1], c=\"salmon\")\n",
        "plt.axis(\"equal\")\n",
        "plt.show()"
      ],
      "execution_count": 0,
      "outputs": [
        {
          "output_type": "display_data",
          "data": {
            "image/png": "[encoded data removed]",
            "text/plain": [
              "<Figure size 432x288 with 1 Axes>"
            ]
          },
          "metadata": {
            "tags": []
          }
        }
      ]
    },
    {
      "cell_type": "code",
      "metadata": {
        "id": "rjkRV0bwaLOh",
        "colab_type": "code",
        "colab": {}
      },
      "source": [
        "#clase de la capa de la red neuronal\n",
        "class neural_layer():\n",
        "  def __init__(self, n_conn, n_neur, act_f):\n",
        "    self.act_f = act_f\n",
        "    self.b = np.random.rand(1, n_neur)      * 2 - 1\n",
        "    self.W = np.random.rand(n_conn, n_neur) * 2 - 1"
      ],
      "execution_count": 0,
      "outputs": []
    },
    {
      "cell_type": "code",
      "metadata": {
        "id": "_Gf8apcmd2RU",
        "colab_type": "code",
        "outputId": "ba1f8e19-b815-45a5-bdd3-a25010094997",
        "colab": {
          "base_uri": "https://localhost:8080/",
          "height": 286
        }
      },
      "source": [
        "# funciones de activacion\n",
        "sigm = (lambda x: 1 / (1 + np.e ** (-x)),\n",
        "        lambda x: x * (1 - x))\n",
        "\n",
        "relu = lambda x: np.maximum(0, x)\n",
        "\n",
        "_x = np.linspace(-5, 5, 100)\n",
        "#plt.plot(_x, sigm[0](_x)) Para ver el diagrama de sigmoide que se solicita.\n",
        "plt.plot(_x, relu(_x)) "
      ],
      "execution_count": 0,
      "outputs": [
        {
          "output_type": "execute_result",
          "data": {
            "text/plain": [
              "[<matplotlib.lines.Line2D at 0x7f461953e550>]"
            ]
          },
          "metadata": {
            "tags": []
          },
          "execution_count": 5
        },
        {
          "output_type": "display_data",
          "data": {
            "image/png": "[encoded data removed]",
            "text/plain": [
              "<Figure size 432x288 with 1 Axes>"
            ]
          },
          "metadata": {
            "tags": []
          }
        }
      ]
    },
    {
      "cell_type": "code",
      "metadata": {
        "id": "WFRd-OVkjs1i",
        "colab_type": "code",
        "colab": {}
      },
      "source": [
        "l0 = neural_layer(p, 4, sigm)\n",
        "l1 = neural_layer(4, 8, sigm)\n",
        "#... n capas de manera no iterativa\n",
        "# crear funcion, gracias a haber creado clase, neural_layer,\n",
        "# se puede hacer de manera iterativa, como lo veremos.\n",
        "#crear funcion en base a una variable\"topology\"\n",
        "def create_nn(topology, act_f):\n",
        "#vector que contiene cada una de las capas de la red neuronal  \n",
        "  nn = []\n",
        "  \n",
        "  for l, layer in enumerate(topology[: -1]): #enumerate: te da el indice del vector, como tambien el objeto\n",
        "    \n",
        "    nn.append(neural_layer(topology[l], topology[l+1], act_f))\n",
        "    \n",
        "  return nn\n"
      ],
      "execution_count": 0,
      "outputs": []
    },
    {
      "cell_type": "code",
      "metadata": {
        "id": "T3ZseMb3thJm",
        "colab_type": "code",
        "outputId": "c430f61b-99ad-42cc-9cb5-163c93469d85",
        "colab": {
          "base_uri": "https://localhost:8080/",
          "height": 34
        }
      },
      "source": [
        "#crear variable en funcion a la cantidad de neuronas que tiene la red\n",
        "topology = [p, 4, 8, 1]\n",
        "\n",
        "neural_net = create_nn(topology, sigm)\n",
        "\n",
        "l2_cost = (lambda Yp, Yr: np.mean((Yp - Yr) ** 2),\n",
        "           lambda Yp, Yr: (Yp - Yr))\n",
        "  \n",
        "def train(neural_net, X, Y, l2_cost, lr=0.5, train=True):\n",
        "  \n",
        "  out = [(None, X)]\n",
        "  \n",
        "  #forward pass\n",
        "  for l, layer in enumerate(neural_net):\n",
        "    \n",
        "    z = out[-1][1] @ neural_net[l].W + neural_net[l].b #suma ponderada en primera capa\n",
        "    a = neural_net[l].act_f[0](z) #salida de la capa1\n",
        "  \n",
        "    out.append((z, a))\n",
        "  \n",
        "  #print(l2_cost[0](out[-1][1], Y))\n",
        "  \n",
        "  if train:\n",
        "      \n",
        "    #Backward pass\n",
        "    deltas = []\n",
        "    \n",
        "    for l in reversed(range(0, len(neural_net))):\n",
        "      \n",
        "      z = out[l+1][0]\n",
        "      a = out[l+1][1]\n",
        "      #print(a.shape)\n",
        "      if l == len(neural_net) - 1:\n",
        "        #Calcular delta ultima capa\n",
        "        deltas.insert(0, l2_cost[1](a, Y) * neural_net[l].act_f[1](a))\n",
        "        #print(deltas.shape)\n",
        "      else:\n",
        "        #print(deltas[0].shape, _w.shape)\n",
        "        #back propagation\n",
        "        #Calcular delta respecto a capa previa\n",
        "        deltas.insert(0, deltas[0] @ _w.T  * neural_net[l].act_f[1](a))\n",
        "        \n",
        "      _w = neural_net[l].W\n",
        "        #Gradient descent\n",
        "      neural_net[l].b = neural_net[l].b - np.mean(deltas[0], axis=0, keepdims=True) * lr\n",
        "      \n",
        "      neural_net[l].W = neural_net[l].W - out[l][1].T @ deltas[0] * lr\n",
        "      \n",
        "  return out[-1][1]\n",
        "\n",
        "train(neural_net, X, Y, l2_cost, 0.5)\n",
        "print(\"\")"
      ],
      "execution_count": 0,
      "outputs": [
        {
          "output_type": "stream",
          "text": [
            "\n"
          ],
          "name": "stdout"
        }
      ]
    },
    {
      "cell_type": "code",
      "metadata": {
        "id": "wIWy6HkbpL4R",
        "colab_type": "code",
        "outputId": "e6c2e9d0-86d7-4e54-93db-7a605f86f965",
        "colab": {
          "base_uri": "https://localhost:8080/",
          "height": 269
        }
      },
      "source": [
        "import time\n",
        "from IPython.display import clear_output\n",
        "\n",
        "neural_n = create_nn(topology, sigm)\n",
        "\n",
        "loss = []\n",
        "  \n",
        "for i in range(2500):\n",
        "  \n",
        "  #Entrenemos la red neuronal\n",
        "  pY = train(neural_n, X, Y, l2_cost, lr=0.05)\n",
        "    \n",
        "  if i % 25 == 0:\n",
        "    \n",
        "    print(pY)\n",
        "      \n",
        "    loss.append(l2_cost[0](pY, Y))\n",
        "      \n",
        "    res = 50\n",
        "      \n",
        "    _x0 = np.linspace(-1.5, 1.5, res)\n",
        "    _x1 = np.linspace(-1.5, 1.5, res) \n",
        "      \n",
        "    _Y = np.zeros((res, res))\n",
        "      \n",
        "    for i0, x0 in enumerate(_x0):\n",
        "      for i1, x1 in enumerate(_x1):\n",
        "        _Y[i0, i1] = train(neural_n, np.array([[x0, x1]]), Y, l2_cost, train=False)[0][0]\n",
        "        \n",
        "    plt.pcolormesh(_x0, _x1, _Y, cmap=\"coolwarm\")\n",
        "    plt.axis(\"equal\")\n",
        "      \n",
        "    plt.scatter(X[Y[:,0] == 0, 0], X[Y[:,0] == 0, 1], c=\"skyblue\")\n",
        "    plt.scatter(X[Y[:,0] == 1, 0], X[Y[:,0] == 1, 1], c=\"salmon\")\n",
        "      \n",
        "    clear_output(wait=True)\n",
        "    plt.show()\n",
        "    plt.plot(range(len(loss)), loss)\n",
        "    plt.show()\n",
        "    time.sleep(0.5)"
      ],
      "execution_count": 0,
      "outputs": [
        {
          "output_type": "display_data",
          "data": {
            "image/png": "[encoded data removed]",
            "text/plain": [
              "<Figure size 432x288 with 1 Axes>"
            ]
          },
          "metadata": {
            "tags": []
          }
        }
      ]
    }
  ]
}